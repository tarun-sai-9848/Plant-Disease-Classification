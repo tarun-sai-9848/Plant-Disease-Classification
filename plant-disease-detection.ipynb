{
 "cells": [
  {
   "cell_type": "code",
   "execution_count": 1,
   "id": "a13a4431",
   "metadata": {
    "execution": {
     "iopub.execute_input": "2022-06-02T09:48:50.768639Z",
     "iopub.status.busy": "2022-06-02T09:48:50.768107Z",
     "iopub.status.idle": "2022-06-02T09:48:57.320419Z",
     "shell.execute_reply": "2022-06-02T09:48:57.319571Z"
    },
    "papermill": {
     "duration": 6.559876,
     "end_time": "2022-06-02T09:48:57.322898",
     "exception": false,
     "start_time": "2022-06-02T09:48:50.763022",
     "status": "completed"
    },
    "tags": []
   },
   "outputs": [],
   "source": [
    "import warnings\n",
    "warnings.filterwarnings(\"ignore\")\n",
    "import tensorflow as tf\n",
    "import matplotlib.pyplot as plt\n",
    "tf.compat.v1.set_random_seed(0)\n",
    "from tensorflow import keras\n",
    "import numpy as np\n",
    "np.random.seed(0)\n",
    "import itertools\n",
    "from keras.preprocessing.image import image_dataset_from_directory\n",
    "from tensorflow.keras.layers.experimental.preprocessing import Rescaling\n",
    "from sklearn.metrics import precision_score, accuracy_score, recall_score, confusion_matrix, ConfusionMatrixDisplay"
   ]
  },
  {
   "cell_type": "markdown",
   "id": "46d79546",
   "metadata": {
    "papermill": {
     "duration": 0.003565,
     "end_time": "2022-06-02T09:48:57.330350",
     "exception": false,
     "start_time": "2022-06-02T09:48:57.326785",
     "status": "completed"
    },
    "tags": []
   },
   "source": [
    "<h1>Data Loading</h1>\n",
    "<p>Setting up Image Data Generators<p>"
   ]
  },
  {
   "cell_type": "code",
   "execution_count": 2,
   "id": "2e86728b",
   "metadata": {
    "execution": {
     "iopub.execute_input": "2022-06-02T09:48:57.338954Z",
     "iopub.status.busy": "2022-06-02T09:48:57.338458Z",
     "iopub.status.idle": "2022-06-02T09:49:57.500982Z",
     "shell.execute_reply": "2022-06-02T09:49:57.500210Z"
    },
    "papermill": {
     "duration": 60.168909,
     "end_time": "2022-06-02T09:49:57.502944",
     "exception": false,
     "start_time": "2022-06-02T09:48:57.334035",
     "status": "completed"
    },
    "tags": []
   },
   "outputs": [
    {
     "name": "stdout",
     "output_type": "stream",
     "text": [
      "Found 70295 files belonging to 38 classes.\n"
     ]
    },
    {
     "name": "stderr",
     "output_type": "stream",
     "text": [
      "2022-06-02 09:49:51.830329: I tensorflow/stream_executor/cuda/cuda_gpu_executor.cc:937] successful NUMA node read from SysFS had negative value (-1), but there must be at least one NUMA node, so returning NUMA node zero\n",
      "2022-06-02 09:49:51.990947: I tensorflow/stream_executor/cuda/cuda_gpu_executor.cc:937] successful NUMA node read from SysFS had negative value (-1), but there must be at least one NUMA node, so returning NUMA node zero\n",
      "2022-06-02 09:49:51.991830: I tensorflow/stream_executor/cuda/cuda_gpu_executor.cc:937] successful NUMA node read from SysFS had negative value (-1), but there must be at least one NUMA node, so returning NUMA node zero\n",
      "2022-06-02 09:49:51.994026: I tensorflow/core/platform/cpu_feature_guard.cc:142] This TensorFlow binary is optimized with oneAPI Deep Neural Network Library (oneDNN) to use the following CPU instructions in performance-critical operations:  AVX2 AVX512F FMA\n",
      "To enable them in other operations, rebuild TensorFlow with the appropriate compiler flags.\n",
      "2022-06-02 09:49:51.994343: I tensorflow/stream_executor/cuda/cuda_gpu_executor.cc:937] successful NUMA node read from SysFS had negative value (-1), but there must be at least one NUMA node, so returning NUMA node zero\n",
      "2022-06-02 09:49:51.995141: I tensorflow/stream_executor/cuda/cuda_gpu_executor.cc:937] successful NUMA node read from SysFS had negative value (-1), but there must be at least one NUMA node, so returning NUMA node zero\n",
      "2022-06-02 09:49:51.995803: I tensorflow/stream_executor/cuda/cuda_gpu_executor.cc:937] successful NUMA node read from SysFS had negative value (-1), but there must be at least one NUMA node, so returning NUMA node zero\n",
      "2022-06-02 09:49:54.246926: I tensorflow/stream_executor/cuda/cuda_gpu_executor.cc:937] successful NUMA node read from SysFS had negative value (-1), but there must be at least one NUMA node, so returning NUMA node zero\n",
      "2022-06-02 09:49:54.247814: I tensorflow/stream_executor/cuda/cuda_gpu_executor.cc:937] successful NUMA node read from SysFS had negative value (-1), but there must be at least one NUMA node, so returning NUMA node zero\n",
      "2022-06-02 09:49:54.248494: I tensorflow/stream_executor/cuda/cuda_gpu_executor.cc:937] successful NUMA node read from SysFS had negative value (-1), but there must be at least one NUMA node, so returning NUMA node zero\n",
      "2022-06-02 09:49:54.249073: I tensorflow/core/common_runtime/gpu/gpu_device.cc:1510] Created device /job:localhost/replica:0/task:0/device:GPU:0 with 15403 MB memory:  -> device: 0, name: Tesla P100-PCIE-16GB, pci bus id: 0000:00:04.0, compute capability: 6.0\n"
     ]
    },
    {
     "name": "stdout",
     "output_type": "stream",
     "text": [
      "Found 17572 files belonging to 38 classes.\n"
     ]
    }
   ],
   "source": [
    "\n",
    "train_gen = image_dataset_from_directory(directory=\"../input/new-plant-diseases-dataset/New Plant Diseases Dataset(Augmented)/New Plant Diseases Dataset(Augmented)/train\",\n",
    "                                         image_size=(256, 256))\n",
    "test_gen = image_dataset_from_directory(directory=\"../input/new-plant-diseases-dataset/New Plant Diseases Dataset(Augmented)/New Plant Diseases Dataset(Augmented)/valid\",\n",
    "                                        image_size=(256, 256))\n",
    "\n",
    "rescale = Rescaling(scale=1.0/255)\n",
    "train_gen = train_gen.map(lambda image,label:(rescale(image),label))\n",
    "test_gen  = test_gen.map(lambda image,label:(rescale(image),label))"
   ]
  },
  {
   "cell_type": "markdown",
   "id": "cf58d529",
   "metadata": {
    "papermill": {
     "duration": 0.004369,
     "end_time": "2022-06-02T09:49:57.511597",
     "exception": false,
     "start_time": "2022-06-02T09:49:57.507228",
     "status": "completed"
    },
    "tags": []
   },
   "source": [
    "<h1>Data Engineering</h1>\n",
    "<p>Since the data is already augmented, there is no requirement of data engineering. Feature scaling is automatically done by image generators</p>"
   ]
  },
  {
   "cell_type": "markdown",
   "id": "0f9253ff",
   "metadata": {
    "papermill": {
     "duration": 0.003746,
     "end_time": "2022-06-02T09:49:57.519314",
     "exception": false,
     "start_time": "2022-06-02T09:49:57.515568",
     "status": "completed"
    },
    "tags": []
   },
   "source": [
    "<h1>Modelling</h1>"
   ]
  },
  {
   "cell_type": "code",
   "execution_count": 3,
   "id": "766c59fa",
   "metadata": {
    "execution": {
     "iopub.execute_input": "2022-06-02T09:49:57.528284Z",
     "iopub.status.busy": "2022-06-02T09:49:57.527976Z",
     "iopub.status.idle": "2022-06-02T09:49:57.676296Z",
     "shell.execute_reply": "2022-06-02T09:49:57.675520Z"
    },
    "papermill": {
     "duration": 0.155633,
     "end_time": "2022-06-02T09:49:57.678786",
     "exception": false,
     "start_time": "2022-06-02T09:49:57.523153",
     "status": "completed"
    },
    "tags": []
   },
   "outputs": [
    {
     "name": "stdout",
     "output_type": "stream",
     "text": [
      "Model: \"sequential\"\n",
      "_________________________________________________________________\n",
      "Layer (type)                 Output Shape              Param #   \n",
      "=================================================================\n",
      "conv2d (Conv2D)              (None, 256, 256, 32)      896       \n",
      "_________________________________________________________________\n",
      "conv2d_1 (Conv2D)            (None, 256, 256, 32)      9248      \n",
      "_________________________________________________________________\n",
      "max_pooling2d (MaxPooling2D) (None, 85, 85, 32)        0         \n",
      "_________________________________________________________________\n",
      "conv2d_2 (Conv2D)            (None, 85, 85, 64)        18496     \n",
      "_________________________________________________________________\n",
      "conv2d_3 (Conv2D)            (None, 85, 85, 64)        36928     \n",
      "_________________________________________________________________\n",
      "max_pooling2d_1 (MaxPooling2 (None, 28, 28, 64)        0         \n",
      "_________________________________________________________________\n",
      "conv2d_4 (Conv2D)            (None, 28, 28, 128)       73856     \n",
      "_________________________________________________________________\n",
      "conv2d_5 (Conv2D)            (None, 28, 28, 128)       147584    \n",
      "_________________________________________________________________\n",
      "max_pooling2d_2 (MaxPooling2 (None, 9, 9, 128)         0         \n",
      "_________________________________________________________________\n",
      "conv2d_6 (Conv2D)            (None, 9, 9, 256)         295168    \n",
      "_________________________________________________________________\n",
      "conv2d_7 (Conv2D)            (None, 9, 9, 256)         590080    \n",
      "_________________________________________________________________\n",
      "conv2d_8 (Conv2D)            (None, 9, 9, 512)         3277312   \n",
      "_________________________________________________________________\n",
      "conv2d_9 (Conv2D)            (None, 9, 9, 512)         6554112   \n",
      "_________________________________________________________________\n",
      "flatten (Flatten)            (None, 41472)             0         \n",
      "_________________________________________________________________\n",
      "dense (Dense)                (None, 1568)              65029664  \n",
      "_________________________________________________________________\n",
      "dropout (Dropout)            (None, 1568)              0         \n",
      "_________________________________________________________________\n",
      "dense_1 (Dense)              (None, 38)                59622     \n",
      "=================================================================\n",
      "Total params: 76,092,966\n",
      "Trainable params: 76,092,966\n",
      "Non-trainable params: 0\n",
      "_________________________________________________________________\n"
     ]
    }
   ],
   "source": [
    "model = keras.Sequential()\n",
    "\n",
    "model.add(keras.layers.Conv2D(32,(3,3),activation=\"relu\",padding=\"same\",input_shape=(256,256,3)))\n",
    "model.add(keras.layers.Conv2D(32,(3,3),activation=\"relu\",padding=\"same\"))\n",
    "model.add(keras.layers.MaxPooling2D(3,3))\n",
    "\n",
    "model.add(keras.layers.Conv2D(64,(3,3),activation=\"relu\",padding=\"same\"))\n",
    "model.add(keras.layers.Conv2D(64,(3,3),activation=\"relu\",padding=\"same\"))\n",
    "model.add(keras.layers.MaxPooling2D(3,3))\n",
    "\n",
    "model.add(keras.layers.Conv2D(128,(3,3),activation=\"relu\",padding=\"same\"))\n",
    "model.add(keras.layers.Conv2D(128,(3,3),activation=\"relu\",padding=\"same\"))\n",
    "model.add(keras.layers.MaxPooling2D(3,3))\n",
    "\n",
    "model.add(keras.layers.Conv2D(256,(3,3),activation=\"relu\",padding=\"same\"))\n",
    "model.add(keras.layers.Conv2D(256,(3,3),activation=\"relu\",padding=\"same\"))\n",
    "\n",
    "model.add(keras.layers.Conv2D(512,(5,5),activation=\"relu\",padding=\"same\"))\n",
    "model.add(keras.layers.Conv2D(512,(5,5),activation=\"relu\",padding=\"same\"))\n",
    "\n",
    "model.add(keras.layers.Flatten())\n",
    "\n",
    "model.add(keras.layers.Dense(1568,activation=\"relu\"))\n",
    "model.add(keras.layers.Dropout(0.5))\n",
    "\n",
    "model.add(keras.layers.Dense(38,activation=\"softmax\"))\n",
    "\n",
    "opt = keras.optimizers.Adam(learning_rate=0.0001)\n",
    "model.compile(optimizer=opt,loss=\"sparse_categorical_crossentropy\",metrics=['accuracy'])\n",
    "model.summary()"
   ]
  },
  {
   "cell_type": "code",
   "execution_count": 4,
   "id": "53ef4d14",
   "metadata": {
    "execution": {
     "iopub.execute_input": "2022-06-02T09:49:57.688175Z",
     "iopub.status.busy": "2022-06-02T09:49:57.687901Z",
     "iopub.status.idle": "2022-06-02T10:25:51.508695Z",
     "shell.execute_reply": "2022-06-02T10:25:51.507854Z"
    },
    "papermill": {
     "duration": 2153.827933,
     "end_time": "2022-06-02T10:25:51.510922",
     "exception": false,
     "start_time": "2022-06-02T09:49:57.682989",
     "status": "completed"
    },
    "tags": []
   },
   "outputs": [
    {
     "name": "stdout",
     "output_type": "stream",
     "text": [
      "Epoch 1/10\n"
     ]
    },
    {
     "name": "stderr",
     "output_type": "stream",
     "text": [
      "2022-06-02 09:49:57.725110: I tensorflow/compiler/mlir/mlir_graph_optimization_pass.cc:185] None of the MLIR Optimization Passes are enabled (registered 2)\n",
      "2022-06-02 09:50:00.285178: I tensorflow/stream_executor/cuda/cuda_dnn.cc:369] Loaded cuDNN version 8005\n"
     ]
    },
    {
     "name": "stdout",
     "output_type": "stream",
     "text": [
      "2197/2197 [==============================] - 316s 140ms/step - loss: 1.6022 - accuracy: 0.5339 - val_loss: 0.5197 - val_accuracy: 0.8419\n",
      "Epoch 2/10\n",
      "2197/2197 [==============================] - 195s 89ms/step - loss: 0.4302 - accuracy: 0.8633 - val_loss: 0.2852 - val_accuracy: 0.9066\n",
      "Epoch 3/10\n",
      "2197/2197 [==============================] - 194s 88ms/step - loss: 0.2553 - accuracy: 0.9166 - val_loss: 0.2539 - val_accuracy: 0.9214\n",
      "Epoch 4/10\n",
      "2197/2197 [==============================] - 195s 88ms/step - loss: 0.1754 - accuracy: 0.9418 - val_loss: 0.2177 - val_accuracy: 0.9314\n",
      "Epoch 5/10\n",
      "2197/2197 [==============================] - 193s 88ms/step - loss: 0.1299 - accuracy: 0.9573 - val_loss: 0.1694 - val_accuracy: 0.9451\n",
      "Epoch 6/10\n",
      "2197/2197 [==============================] - 194s 88ms/step - loss: 0.1014 - accuracy: 0.9661 - val_loss: 0.1315 - val_accuracy: 0.9583\n",
      "Epoch 7/10\n",
      "2197/2197 [==============================] - 194s 88ms/step - loss: 0.0823 - accuracy: 0.9719 - val_loss: 0.1392 - val_accuracy: 0.9585\n",
      "Epoch 8/10\n",
      "2197/2197 [==============================] - 204s 93ms/step - loss: 0.0691 - accuracy: 0.9769 - val_loss: 0.1477 - val_accuracy: 0.9547\n",
      "Epoch 9/10\n",
      "2197/2197 [==============================] - 194s 88ms/step - loss: 0.0623 - accuracy: 0.9796 - val_loss: 0.1131 - val_accuracy: 0.9668\n",
      "Epoch 10/10\n",
      "2197/2197 [==============================] - 194s 88ms/step - loss: 0.0532 - accuracy: 0.9829 - val_loss: 0.1166 - val_accuracy: 0.9677\n"
     ]
    }
   ],
   "source": [
    "ep = 10\n",
    "history = model.fit_generator(train_gen,\n",
    "          validation_data=test_gen,\n",
    "          epochs = ep)"
   ]
  },
  {
   "cell_type": "markdown",
   "id": "d4887800",
   "metadata": {
    "papermill": {
     "duration": 1.36938,
     "end_time": "2022-06-02T10:25:54.237422",
     "exception": false,
     "start_time": "2022-06-02T10:25:52.868042",
     "status": "completed"
    },
    "tags": []
   },
   "source": [
    "<h1>Metrics</h1>"
   ]
  },
  {
   "cell_type": "code",
   "execution_count": 5,
   "id": "c245d202",
   "metadata": {
    "execution": {
     "iopub.execute_input": "2022-06-02T10:25:57.194286Z",
     "iopub.status.busy": "2022-06-02T10:25:57.193783Z",
     "iopub.status.idle": "2022-06-02T10:25:57.595747Z",
     "shell.execute_reply": "2022-06-02T10:25:57.594929Z"
    },
    "papermill": {
     "duration": 1.769477,
     "end_time": "2022-06-02T10:25:57.598039",
     "exception": false,
     "start_time": "2022-06-02T10:25:55.828562",
     "status": "completed"
    },
    "tags": []
   },
   "outputs": [
    {
     "data": {
      "image/png": "[encoded data removed]",
      "text/plain": [
       "<Figure size 1440x360 with 2 Axes>"
      ]
     },
     "metadata": {
      "needs_background": "light"
     },
     "output_type": "display_data"
    }
   ],
   "source": [
    "plt.figure(figsize = (20,5))\n",
    "plt.subplot(1,2,1)\n",
    "plt.title(\"Train and Validation Loss\")\n",
    "plt.xlabel(\"Epoch\")\n",
    "plt.ylabel(\"Loss\")\n",
    "plt.plot(history.history['loss'],label=\"Train Loss\")\n",
    "plt.plot(history.history['val_loss'], label=\"Validation Loss\")\n",
    "plt.xlim(0, 10)\n",
    "plt.ylim(0.0,1.0)\n",
    "plt.legend()\n",
    "\n",
    "plt.subplot(1,2,2)\n",
    "plt.title(\"Train and Validation Accuracy\")\n",
    "plt.xlabel(\"Epoch\")\n",
    "plt.ylabel(\"Accuracy\")\n",
    "plt.plot(history.history['accuracy'], label=\"Train Accuracy\")\n",
    "plt.plot(history.history['val_accuracy'], label=\"Validation Accuracy\")\n",
    "plt.xlim(0, 9.25)\n",
    "plt.ylim(0.75,1.0)\n",
    "plt.legend()\n",
    "plt.tight_layout()"
   ]
  },
  {
   "cell_type": "code",
   "execution_count": 6,
   "id": "57e85611",
   "metadata": {
    "execution": {
     "iopub.execute_input": "2022-06-02T10:26:00.339724Z",
     "iopub.status.busy": "2022-06-02T10:26:00.339370Z",
     "iopub.status.idle": "2022-06-02T10:27:22.260246Z",
     "shell.execute_reply": "2022-06-02T10:27:22.259403Z"
    },
    "papermill": {
     "duration": 83.223269,
     "end_time": "2022-06-02T10:27:22.262402",
     "exception": false,
     "start_time": "2022-06-02T10:25:59.039133",
     "status": "completed"
    },
    "tags": []
   },
   "outputs": [],
   "source": [
    "labels = []\n",
    "predictions = []\n",
    "for x,y in test_gen:\n",
    "    labels.append(list(y.numpy()))\n",
    "    predictions.append(tf.argmax(model.predict(x),1).numpy())"
   ]
  },
  {
   "cell_type": "code",
   "execution_count": 7,
   "id": "104e4057",
   "metadata": {
    "execution": {
     "iopub.execute_input": "2022-06-02T10:27:25.290300Z",
     "iopub.status.busy": "2022-06-02T10:27:25.289939Z",
     "iopub.status.idle": "2022-06-02T10:27:25.297801Z",
     "shell.execute_reply": "2022-06-02T10:27:25.297035Z"
    },
    "papermill": {
     "duration": 1.428773,
     "end_time": "2022-06-02T10:27:25.299509",
     "exception": false,
     "start_time": "2022-06-02T10:27:23.870736",
     "status": "completed"
    },
    "tags": []
   },
   "outputs": [],
   "source": [
    "predictions = list(itertools.chain.from_iterable(predictions))\n",
    "labels = list(itertools.chain.from_iterable(labels))"
   ]
  },
  {
   "cell_type": "code",
   "execution_count": 8,
   "id": "1437758c",
   "metadata": {
    "execution": {
     "iopub.execute_input": "2022-06-02T10:27:28.105146Z",
     "iopub.status.busy": "2022-06-02T10:27:28.104348Z",
     "iopub.status.idle": "2022-06-02T10:27:28.165024Z",
     "shell.execute_reply": "2022-06-02T10:27:28.164147Z"
    },
    "papermill": {
     "duration": 1.46903,
     "end_time": "2022-06-02T10:27:28.166737",
     "exception": false,
     "start_time": "2022-06-02T10:27:26.697707",
     "status": "completed"
    },
    "tags": []
   },
   "outputs": [
    {
     "name": "stdout",
     "output_type": "stream",
     "text": [
      "Train Accuracy  : 98.29 %\n",
      "Test Accuracy   : 96.77 %\n",
      "Precision Score : 96.77 %\n",
      "Recall Score    : 96.77 %\n"
     ]
    }
   ],
   "source": [
    "print(\"Train Accuracy  : {:.2f} %\".format(history.history['accuracy'][-1]*100))\n",
    "print(\"Test Accuracy   : {:.2f} %\".format(accuracy_score(labels, predictions) * 100))\n",
    "print(\"Precision Score : {:.2f} %\".format(precision_score(labels, predictions, average='micro') * 100))\n",
    "print(\"Recall Score    : {:.2f} %\".format(recall_score(labels, predictions, average='micro') * 100))"
   ]
  }
 ],
 "metadata": {
  "kernelspec": {
   "display_name": "Python 3",
   "language": "python",
   "name": "python3"
  },
  "language_info": {
   "codemirror_mode": {
    "name": "ipython",
    "version": 3
   },
   "file_extension": ".py",
   "mimetype": "text/x-python",
   "name": "python",
   "nbconvert_exporter": "python",
   "pygments_lexer": "ipython3",
   "version": "3.7.12"
  },
  "papermill": {
   "default_parameters": {},
   "duration": 2342.836457,
   "end_time": "2022-06-02T10:27:45.858047",
   "environment_variables": {},
   "exception": null,
   "input_path": "__notebook__.ipynb",
   "output_path": "__notebook__.ipynb",
   "parameters": {},
   "start_time": "2022-06-02T09:48:43.021590",
   "version": "2.3.4"
  }
 },
 "nbformat": 4,
 "nbformat_minor": 5
}
